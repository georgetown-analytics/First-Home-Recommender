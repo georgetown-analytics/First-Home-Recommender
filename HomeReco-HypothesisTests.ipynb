{
 "cells": [
  {
   "cell_type": "code",
   "execution_count": 28,
   "metadata": {},
   "outputs": [],
   "source": [
    "import psycopg2\n",
    "import pandas as pd\n",
    "import numpy as np\n",
    "import matplotlib.pyplot as plt\n",
    "import seaborn as sns\n",
    "import pprint\n",
    "\n",
    "conn = psycopg2.connect( \n",
    "                        host = 'project.cgxhdwn5zb5t.us-east-1.rds.amazonaws.com',\n",
    "                        port = 5432, \n",
    "                        user = 'postgres',\n",
    "                        password = 'Admin123',\n",
    "                        database = 'postgres')\n",
    "cursor = conn.cursor()"
   ]
  },
  {
   "cell_type": "code",
   "execution_count": 29,
   "metadata": {},
   "outputs": [],
   "source": [
    "DEC2FLOAT = psycopg2.extensions.new_type(\n",
    "    psycopg2.extensions.DECIMAL.values,\n",
    "    'DEC2FLOAT',\n",
    "    lambda value, curs: float(value) if value is not None else None)\n",
    "psycopg2.extensions.register_type(DEC2FLOAT)"
   ]
  },
  {
   "cell_type": "code",
   "execution_count": 30,
   "metadata": {},
   "outputs": [],
   "source": [
    "cursor.execute('SELECT * FROM household_181')\n",
    "rows = cursor.fetchall()\n",
    "col_names = []\n",
    "for elt in cursor.description:\n",
    "    col_names.append(elt[0])\n",
    "\n",
    "household_181 = pd.DataFrame(data=rows, columns=col_names )"
   ]
  },
  {
   "cell_type": "code",
   "execution_count": 31,
   "metadata": {},
   "outputs": [
    {
     "name": "stdout",
     "output_type": "stream",
     "text": [
      "<class 'pandas.core.frame.DataFrame'>\n",
      "RangeIndex: 136245 entries, 0 to 136244\n",
      "Columns: 182 entries, control to year\n",
      "dtypes: float64(181), object(1)\n",
      "memory usage: 189.2+ MB\n"
     ]
    }
   ],
   "source": [
    "household_181.info()"
   ]
  },
  {
   "cell_type": "code",
   "execution_count": 41,
   "metadata": {},
   "outputs": [
    {
     "data": {
      "text/plain": [
       "array([[<matplotlib.axes._subplots.AxesSubplot object at 0x000001F9138D5D30>]],\n",
       "      dtype=object)"
      ]
     },
     "execution_count": 41,
     "metadata": {},
     "output_type": "execute_result"
    },
    {
     "data": {
      "image/png": "[encoded data removed]",
      "text/plain": [
       "<Figure size 432x288 with 1 Axes>"
      ]
     },
     "metadata": {},
     "output_type": "display_data"
    }
   ],
   "source": [
    "#histogram of how many people gave a certain housing rating\n",
    "household_181.hist(column='ratinghs', bins = 10, range = [0,10])"
   ]
  },
  {
   "cell_type": "code",
   "execution_count": 44,
   "metadata": {},
   "outputs": [
    {
     "data": {
      "text/html": [
       "<div>\n",
       "<style scoped>\n",
       "    .dataframe tbody tr th:only-of-type {\n",
       "        vertical-align: middle;\n",
       "    }\n",
       "\n",
       "    .dataframe tbody tr th {\n",
       "        vertical-align: top;\n",
       "    }\n",
       "\n",
       "    .dataframe thead th {\n",
       "        text-align: right;\n",
       "    }\n",
       "</style>\n",
       "<table border=\"1\" class=\"dataframe\">\n",
       "  <thead>\n",
       "    <tr style=\"text-align: right;\">\n",
       "      <th>ratingnh</th>\n",
       "      <th>-9.0</th>\n",
       "      <th>-6.0</th>\n",
       "      <th>1.0</th>\n",
       "      <th>2.0</th>\n",
       "      <th>3.0</th>\n",
       "      <th>4.0</th>\n",
       "      <th>5.0</th>\n",
       "      <th>6.0</th>\n",
       "      <th>7.0</th>\n",
       "      <th>8.0</th>\n",
       "      <th>9.0</th>\n",
       "      <th>10.0</th>\n",
       "    </tr>\n",
       "    <tr>\n",
       "      <th>ratinghs</th>\n",
       "      <th></th>\n",
       "      <th></th>\n",
       "      <th></th>\n",
       "      <th></th>\n",
       "      <th></th>\n",
       "      <th></th>\n",
       "      <th></th>\n",
       "      <th></th>\n",
       "      <th></th>\n",
       "      <th></th>\n",
       "      <th></th>\n",
       "      <th></th>\n",
       "    </tr>\n",
       "  </thead>\n",
       "  <tbody>\n",
       "    <tr>\n",
       "      <th>-9.0</th>\n",
       "      <td>4049</td>\n",
       "      <td>0</td>\n",
       "      <td>3</td>\n",
       "      <td>1</td>\n",
       "      <td>0</td>\n",
       "      <td>3</td>\n",
       "      <td>4</td>\n",
       "      <td>6</td>\n",
       "      <td>12</td>\n",
       "      <td>22</td>\n",
       "      <td>26</td>\n",
       "      <td>25</td>\n",
       "    </tr>\n",
       "    <tr>\n",
       "      <th>-6.0</th>\n",
       "      <td>0</td>\n",
       "      <td>17774</td>\n",
       "      <td>0</td>\n",
       "      <td>0</td>\n",
       "      <td>0</td>\n",
       "      <td>0</td>\n",
       "      <td>0</td>\n",
       "      <td>0</td>\n",
       "      <td>0</td>\n",
       "      <td>0</td>\n",
       "      <td>0</td>\n",
       "      <td>0</td>\n",
       "    </tr>\n",
       "    <tr>\n",
       "      <th>1.0</th>\n",
       "      <td>5</td>\n",
       "      <td>2</td>\n",
       "      <td>261</td>\n",
       "      <td>38</td>\n",
       "      <td>36</td>\n",
       "      <td>28</td>\n",
       "      <td>97</td>\n",
       "      <td>40</td>\n",
       "      <td>53</td>\n",
       "      <td>97</td>\n",
       "      <td>45</td>\n",
       "      <td>132</td>\n",
       "    </tr>\n",
       "    <tr>\n",
       "      <th>2.0</th>\n",
       "      <td>4</td>\n",
       "      <td>5</td>\n",
       "      <td>58</td>\n",
       "      <td>90</td>\n",
       "      <td>23</td>\n",
       "      <td>27</td>\n",
       "      <td>67</td>\n",
       "      <td>24</td>\n",
       "      <td>28</td>\n",
       "      <td>37</td>\n",
       "      <td>17</td>\n",
       "      <td>22</td>\n",
       "    </tr>\n",
       "    <tr>\n",
       "      <th>3.0</th>\n",
       "      <td>3</td>\n",
       "      <td>1</td>\n",
       "      <td>78</td>\n",
       "      <td>52</td>\n",
       "      <td>164</td>\n",
       "      <td>65</td>\n",
       "      <td>125</td>\n",
       "      <td>58</td>\n",
       "      <td>74</td>\n",
       "      <td>73</td>\n",
       "      <td>36</td>\n",
       "      <td>56</td>\n",
       "    </tr>\n",
       "    <tr>\n",
       "      <th>4.0</th>\n",
       "      <td>3</td>\n",
       "      <td>3</td>\n",
       "      <td>42</td>\n",
       "      <td>61</td>\n",
       "      <td>107</td>\n",
       "      <td>296</td>\n",
       "      <td>201</td>\n",
       "      <td>151</td>\n",
       "      <td>135</td>\n",
       "      <td>128</td>\n",
       "      <td>57</td>\n",
       "      <td>55</td>\n",
       "    </tr>\n",
       "    <tr>\n",
       "      <th>5.0</th>\n",
       "      <td>19</td>\n",
       "      <td>11</td>\n",
       "      <td>103</td>\n",
       "      <td>130</td>\n",
       "      <td>268</td>\n",
       "      <td>339</td>\n",
       "      <td>2440</td>\n",
       "      <td>491</td>\n",
       "      <td>826</td>\n",
       "      <td>691</td>\n",
       "      <td>229</td>\n",
       "      <td>376</td>\n",
       "    </tr>\n",
       "    <tr>\n",
       "      <th>6.0</th>\n",
       "      <td>15</td>\n",
       "      <td>2</td>\n",
       "      <td>36</td>\n",
       "      <td>37</td>\n",
       "      <td>116</td>\n",
       "      <td>288</td>\n",
       "      <td>704</td>\n",
       "      <td>1932</td>\n",
       "      <td>1043</td>\n",
       "      <td>1052</td>\n",
       "      <td>306</td>\n",
       "      <td>301</td>\n",
       "    </tr>\n",
       "    <tr>\n",
       "      <th>7.0</th>\n",
       "      <td>20</td>\n",
       "      <td>8</td>\n",
       "      <td>45</td>\n",
       "      <td>58</td>\n",
       "      <td>150</td>\n",
       "      <td>266</td>\n",
       "      <td>1135</td>\n",
       "      <td>1472</td>\n",
       "      <td>7166</td>\n",
       "      <td>3123</td>\n",
       "      <td>1345</td>\n",
       "      <td>975</td>\n",
       "    </tr>\n",
       "    <tr>\n",
       "      <th>8.0</th>\n",
       "      <td>44</td>\n",
       "      <td>6</td>\n",
       "      <td>60</td>\n",
       "      <td>67</td>\n",
       "      <td>120</td>\n",
       "      <td>218</td>\n",
       "      <td>881</td>\n",
       "      <td>1287</td>\n",
       "      <td>3746</td>\n",
       "      <td>16781</td>\n",
       "      <td>3533</td>\n",
       "      <td>2992</td>\n",
       "    </tr>\n",
       "    <tr>\n",
       "      <th>9.0</th>\n",
       "      <td>16</td>\n",
       "      <td>12</td>\n",
       "      <td>18</td>\n",
       "      <td>24</td>\n",
       "      <td>31</td>\n",
       "      <td>54</td>\n",
       "      <td>227</td>\n",
       "      <td>313</td>\n",
       "      <td>1119</td>\n",
       "      <td>3036</td>\n",
       "      <td>9889</td>\n",
       "      <td>2501</td>\n",
       "    </tr>\n",
       "    <tr>\n",
       "      <th>10.0</th>\n",
       "      <td>86</td>\n",
       "      <td>20</td>\n",
       "      <td>140</td>\n",
       "      <td>61</td>\n",
       "      <td>94</td>\n",
       "      <td>100</td>\n",
       "      <td>606</td>\n",
       "      <td>432</td>\n",
       "      <td>1241</td>\n",
       "      <td>3936</td>\n",
       "      <td>2883</td>\n",
       "      <td>26968</td>\n",
       "    </tr>\n",
       "  </tbody>\n",
       "</table>\n",
       "</div>"
      ],
      "text/plain": [
       "ratingnh  -9.0   -6.0    1.0    2.0    3.0    4.0    5.0    6.0    7.0   \\\n",
       "ratinghs                                                                  \n",
       "-9.0       4049      0      3      1      0      3      4      6     12   \n",
       "-6.0          0  17774      0      0      0      0      0      0      0   \n",
       " 1.0          5      2    261     38     36     28     97     40     53   \n",
       " 2.0          4      5     58     90     23     27     67     24     28   \n",
       " 3.0          3      1     78     52    164     65    125     58     74   \n",
       " 4.0          3      3     42     61    107    296    201    151    135   \n",
       " 5.0         19     11    103    130    268    339   2440    491    826   \n",
       " 6.0         15      2     36     37    116    288    704   1932   1043   \n",
       " 7.0         20      8     45     58    150    266   1135   1472   7166   \n",
       " 8.0         44      6     60     67    120    218    881   1287   3746   \n",
       " 9.0         16     12     18     24     31     54    227    313   1119   \n",
       " 10.0        86     20    140     61     94    100    606    432   1241   \n",
       "\n",
       "ratingnh   8.0    9.0    10.0  \n",
       "ratinghs                       \n",
       "-9.0         22     26     25  \n",
       "-6.0          0      0      0  \n",
       " 1.0         97     45    132  \n",
       " 2.0         37     17     22  \n",
       " 3.0         73     36     56  \n",
       " 4.0        128     57     55  \n",
       " 5.0        691    229    376  \n",
       " 6.0       1052    306    301  \n",
       " 7.0       3123   1345    975  \n",
       " 8.0      16781   3533   2992  \n",
       " 9.0       3036   9889   2501  \n",
       " 10.0      3936   2883  26968  "
      ]
     },
     "execution_count": 44,
     "metadata": {},
     "output_type": "execute_result"
    }
   ],
   "source": [
    "#How many people gave a combination of each score for house and neighborhood\n",
    "pd.crosstab(household_181.ratinghs, household_181.ratingnh)"
   ]
  },
  {
   "cell_type": "code",
   "execution_count": 53,
   "metadata": {},
   "outputs": [
    {
     "data": {
      "text/plain": [
       "numadults  nhqpubtrn\n",
       "-6.0       -9.0         -6.000000\n",
       "           -6.0         -6.000000\n",
       "            1.0         -6.000000\n",
       "            2.0         -6.000000\n",
       " 0.0       -9.0          0.000000\n",
       "            1.0          4.875000\n",
       "            2.0          6.800000\n",
       " 1.0       -9.0          0.675009\n",
       "            1.0          7.639511\n",
       "            2.0          7.925227\n",
       " 2.0       -9.0          0.423859\n",
       "            1.0          7.986800\n",
       "            2.0          8.307315\n",
       " 3.0       -9.0         -0.500686\n",
       "            1.0          7.973374\n",
       "            2.0          8.312900\n",
       " 4.0       -9.0         -1.163522\n",
       "            1.0          7.904848\n",
       "            2.0          8.366209\n",
       " 5.0       -9.0         -2.655914\n",
       "            1.0          8.032895\n",
       "            2.0          8.076046\n",
       " 6.0       -9.0         -4.740741\n",
       "            1.0          7.990654\n",
       "            2.0          8.186275\n",
       " 7.0       -9.0         -1.666667\n",
       "            1.0          8.145161\n",
       "            2.0          8.096774\n",
       " 8.0       -9.0         -9.000000\n",
       "            1.0          7.250000\n",
       "            2.0          8.500000\n",
       " 9.0       -9.0         -9.000000\n",
       "            1.0          8.111111\n",
       "            2.0          6.666667\n",
       " 10.0       1.0          9.000000\n",
       "            2.0         10.000000\n",
       " 11.0       1.0          5.000000\n",
       "            2.0          7.000000\n",
       "Name: ratingnh, dtype: float64"
      ]
     },
     "execution_count": 53,
     "metadata": {},
     "output_type": "execute_result"
    }
   ],
   "source": [
    "#The average rating of the neighborhood based on the number of adults who live in the house and if they agree (1) or disagree (2) that there is good pub transport\n",
    "#Surprisingly, The average rating of the neghborhood is higher where people don't think there is good public transport\n",
    "Adults = household_181.groupby(['numadults', 'nhqpubtrn'])\n",
    "Adults['ratingnh'].agg(np.mean)"
   ]
  },
  {
   "cell_type": "code",
   "execution_count": 57,
   "metadata": {},
   "outputs": [
    {
     "data": {
      "text/plain": [
       "numyngkids  nhqschool\n",
       "-6.0        -9.0         -6.000000\n",
       "            -6.0         -6.000000\n",
       "             1.0         -6.000000\n",
       "             2.0         -6.000000\n",
       " 0.0        -9.0          3.110264\n",
       "             1.0          8.281553\n",
       "             2.0          6.705157\n",
       " 1.0        -9.0          2.246175\n",
       "             1.0          8.058398\n",
       "             2.0          6.240275\n",
       " 2.0        -9.0          0.973214\n",
       "             1.0          8.094149\n",
       "             2.0          6.185780\n",
       " 3.0        -9.0          1.921053\n",
       "             1.0          8.048257\n",
       "             2.0          6.365079\n",
       " 4.0        -9.0         10.000000\n",
       "             1.0          7.893617\n",
       "             2.0          6.777778\n",
       " 5.0         1.0          7.428571\n",
       "             2.0          5.000000\n",
       " 6.0        -9.0          9.000000\n",
       "Name: ratingnh, dtype: float64"
      ]
     },
     "execution_count": 57,
     "metadata": {},
     "output_type": "execute_result"
    }
   ],
   "source": [
    "#The average rating of the neighborhood based on the number of young kids who live in the house and if they agree (1) or disagree (2) that there is good schools\n",
    "#Unsurprisingly, The average rating of the neghborhood is higher where people think there are good schools\n",
    "#Even households that had no kids ranked a school-friendly neighborhood as more satisfactory\n",
    "YKids = household_181.groupby(['numyngkids', 'nhqschool'])\n",
    "YKids['ratingnh'].agg(np.mean)"
   ]
  },
  {
   "cell_type": "code",
   "execution_count": 58,
   "metadata": {},
   "outputs": [
    {
     "data": {
      "text/plain": [
       "numoldkids  nhqschool\n",
       "-6.0        -9.0        -6.000000\n",
       "            -6.0        -6.000000\n",
       "             1.0        -6.000000\n",
       "             2.0        -6.000000\n",
       " 0.0        -9.0         3.546521\n",
       "             1.0         8.277327\n",
       "             2.0         6.713457\n",
       " 1.0        -9.0        -1.670588\n",
       "             1.0         8.162503\n",
       "             2.0         6.519658\n",
       " 2.0        -9.0        -2.462604\n",
       "             1.0         8.239764\n",
       "             2.0         6.403015\n",
       " 3.0        -9.0        -3.134454\n",
       "             1.0         8.161171\n",
       "             2.0         6.178771\n",
       " 4.0        -9.0        -4.500000\n",
       "             1.0         8.093596\n",
       "             2.0         5.853211\n",
       " 5.0        -9.0        -2.000000\n",
       "             1.0         7.972789\n",
       "             2.0         6.800000\n",
       " 6.0        -9.0        -1.500000\n",
       "             1.0         8.615385\n",
       "             2.0         4.777778\n",
       " 7.0         1.0         8.400000\n",
       "             2.0         8.000000\n",
       " 8.0         1.0         8.000000\n",
       "Name: ratingnh, dtype: float64"
      ]
     },
     "execution_count": 58,
     "metadata": {},
     "output_type": "execute_result"
    }
   ],
   "source": [
    "#The average rating of the neighborhood based on the number of old kids who live in the house and if they agree (1) or disagree (2) that there is good schools\n",
    "#Unsurprisingly, The average rating of the neghborhood is higher where people think there are good schools\n",
    "OKids = household_181.groupby(['numoldkids', 'nhqschool'])\n",
    "OKids['ratingnh'].agg(np.mean)"
   ]
  },
  {
   "cell_type": "code",
   "execution_count": 59,
   "metadata": {},
   "outputs": [
    {
     "data": {
      "text/plain": [
       "firsthome  nhqscrime\n",
       "-9.0       -9.0        -8.211724\n",
       "            1.0         4.890756\n",
       "            2.0         6.836271\n",
       "-6.0       -9.0        -3.787862\n",
       "           -6.0        -6.000000\n",
       "            1.0         4.431457\n",
       "            2.0         5.801695\n",
       " 1.0       -9.0        -3.995169\n",
       "            1.0         6.215270\n",
       "            2.0         8.283877\n",
       " 2.0       -9.0        -5.095607\n",
       "            1.0         6.759392\n",
       "            2.0         8.646915\n",
       "Name: ratingnh, dtype: float64"
      ]
     },
     "execution_count": 59,
     "metadata": {},
     "output_type": "execute_result"
    }
   ],
   "source": [
    "FirstHomeCrime = household_181.groupby(['firsthome', 'nhqscrime'])\n",
    "FirstHomeCrime['ratingnh'].agg(np.mean)"
   ]
  },
  {
   "cell_type": "code",
   "execution_count": 60,
   "metadata": {},
   "outputs": [
    {
     "data": {
      "text/plain": [
       "firsthome  nhqpcrime\n",
       "-9.0       -9.0        -8.130095\n",
       "            1.0         5.972393\n",
       "            2.0         6.905318\n",
       "-6.0       -9.0        -2.721961\n",
       "           -6.0        -6.000000\n",
       "            1.0         5.004184\n",
       "            2.0         5.871147\n",
       " 1.0       -9.0        -2.415385\n",
       "            1.0         6.879013\n",
       "            2.0         8.432028\n",
       " 2.0       -9.0        -3.482366\n",
       "            1.0         7.458046\n",
       "            2.0         8.724494\n",
       "Name: ratingnh, dtype: float64"
      ]
     },
     "execution_count": 60,
     "metadata": {},
     "output_type": "execute_result"
    }
   ],
   "source": [
    "FirstHomeCrime = household_181.groupby(['firsthome', 'nhqpcrime'])\n",
    "FirstHomeCrime['ratingnh'].agg(np.mean)"
   ]
  },
  {
   "cell_type": "code",
   "execution_count": 50,
   "metadata": {},
   "outputs": [
    {
     "data": {
      "image/png": "[encoded data removed]",
      "text/plain": [
       "<Figure size 432x288 with 1 Axes>"
      ]
     },
     "metadata": {},
     "output_type": "display_data"
    },
    {
     "data": {
      "image/png": "[encoded data removed]",
      "text/plain": [
       "<Figure size 432x288 with 1 Axes>"
      ]
     },
     "metadata": {},
     "output_type": "display_data"
    }
   ],
   "source": [
    "#Comparing the satisfaction of the house with first-time homebuyers and other buyers\n",
    "FirstTime = household_181[household_181.firsthome == 1]\n",
    "NotFirstTime = household_181[household_181.firsthome != 1]\n",
    "\n",
    "FirstTime.hist(column = 'ratinghs', bins = 40, color = 'teal', \\\n",
    "           alpha = 0.5)\n",
    "NotFirstTime.hist(column = 'ratinghs', bins = 40, color = 'blue', \\\n",
    "            alpha = 0.5)\n",
    "plt.show()"
   ]
  },
  {
   "cell_type": "code",
   "execution_count": 140,
   "metadata": {},
   "outputs": [
    {
     "data": {
      "text/plain": [
       "28804"
      ]
     },
     "execution_count": 140,
     "metadata": {},
     "output_type": "execute_result"
    }
   ],
   "source": [
    "len(household_181[household_181['firsthome'] == 1])"
   ]
  },
  {
   "cell_type": "code",
   "execution_count": 125,
   "metadata": {},
   "outputs": [
    {
     "name": "stdout",
     "output_type": "stream",
     "text": [
      "1651 first-time homebuyers found their home through a real estate agent\n",
      "1202 first-time homebuyers found their home through the internet\n",
      "836 first-time homebuyers found their home through family, friends, or word of mouth\n",
      "267 first-time homebuyers found their home by seeing a sign outside the building\n",
      "242 first-time homebuyers found their home through some other method\n",
      "93 first-time homebuyers found their home through newsprint or some publication\n",
      "71 first-time homebuyers found their home through a listing from apartment rental agency listing\n"
     ]
    }
   ],
   "source": [
    "#Test Hypothesis 1: A majority of first-time homebuyers found their home via the internet\n",
    "#Count the yeses, \"1\", for each of the seven search categories\n",
    "#Filter by first-time homebuyers #Relation between method of finding a home and the average satisfaction rating that first-time homebuyers gave their home.\n",
    "print('The average satisfaction rating that first-time homebuyers gave their home, based on the method of how they found their home.')\n",
    "filter_listPUB = ['1']\n",
    "PUB = household_181[(household_181.firsthome == 1) & household_181.searchpub.isin(filter_listPUB)]\n",
    "print('Homebuyers who found their home through news print gave their home a score of', PUB['ratinghs'].agg(np.mean))\n",
    "\n",
    "filter_listSIGN = ['1']\n",
    "SIGN = household_181[(household_181.firsthome == 1) & household_181.searchsign.isin(filter_listSIGN)]\n",
    "print('Homebuyers who found their home from a sign gave their home a score of', SIGN['ratinghs'].agg(np.mean))\n",
    "\n",
    "filter_listNET = ['1']\n",
    "NET = household_181[(household_181.firsthome == 1) & household_181.searchnet.isin(filter_listNET)]\n",
    "print('Homebuyers who used the internet gave their home a score of', NET['ratinghs'].agg(np.mean))\n",
    "\n",
    "filter_listLIST = ['1']\n",
    "LIST = household_181[(household_181.firsthome == 1) & household_181.searchlist.isin(filter_listLIST)]\n",
    "print('Homebuyers who found their home in a listing gave their home a score of', LIST['ratinghs'].agg(np.mean))\n",
    "\n",
    "filter_listRA = ['1']\n",
    "RA = household_181[(household_181.firsthome == 1) & household_181.searchrea.isin(filter_listRA)]\n",
    "print('Homebuyers who used a real estate agent gave their home a score of', RA['ratinghs'].agg(np.mean))\n",
    "\n",
    "filter_listFAM = ['1']\n",
    "FAM = household_181[(household_181.firsthome == 1) & household_181.searchfam.isin(filter_listFAM)]\n",
    "print('Homebuyers who used family/friend/word of mouth gave their home a score of', FAM['ratinghs'].agg(np.mean))\n",
    "\n",
    "filter_listOTH = ['1']\n",
    "OTH = household_181[(household_181.firsthome == 1) & household_181.searchoth.isin(filter_listOTH)]\n",
    "print('Homebuyers who used another method to find their home gave their home a score of', OTH['ratinghs'].agg(np.mean))\n",
    "#Conclusion: The most popular method for finding a new home was through a real estate agent\n",
    "\n",
    "Agent = household_181[(household_181.firsthome == 1) & (household_181.searchrea == 1)]\n",
    "print(len(Agent.index), \"first-time homebuyers found their home through a real estate agent\")\n",
    "Internet = household_181[(household_181.firsthome == 1) & (household_181.searchnet == 1)]\n",
    "print(len(Internet.index), \"first-time homebuyers found their home through the internet\")\n",
    "Family = household_181[(household_181.firsthome == 1) & (household_181.searchfam == 1)]\n",
    "print(len(Family.index), \"first-time homebuyers found their home through family, friends, or word of mouth\")\n",
    "Sign = household_181[(household_181.firsthome == 1) & (household_181.searchsign == 1)]\n",
    "print(len(Sign.index), \"first-time homebuyers found their home by seeing a sign outside the building\")\n",
    "Other = household_181[(household_181.firsthome == 1) & (household_181.searchoth == 1)]\n",
    "print(len(Other.index), \"first-time homebuyers found their home through some other method\")\n",
    "Publication = household_181[(household_181.firsthome == 1) & (household_181.searchpub == 1)]\n",
    "print(len(Publication.index), \"first-time homebuyers found their home through newsprint or some publication\")\n",
    "List = household_181[(household_181.firsthome == 1) & (household_181.searchlist == 1)]\n",
    "print(len(List.index), \"first-time homebuyers found their home through a listing from apartment rental agency listing\")"
   ]
  },
  {
   "cell_type": "code",
   "execution_count": 155,
   "metadata": {},
   "outputs": [
    {
     "name": "stdout",
     "output_type": "stream",
     "text": [
      "The average satisfaction rating that first-time homebuyers gave their home, based on the method of how they found their home.\n",
      "Homebuyers who found their home through news print gave their home a score of 8.666666666666666\n",
      "Homebuyers who found their home from a sign gave their home a score of 8.588014981273409\n",
      "Homebuyers who used the internet gave their home a score of 8.516638935108153\n",
      "Homebuyers who found their home in a listing gave their home a score of 8.507042253521126\n",
      "Homebuyers who used a real estate agent gave their home a score of 8.493034524530588\n",
      "Homebuyers who used family/friend/word of mouth gave their home a score of 8.392344497607656\n",
      "Homebuyers who used another method to find their home gave their home a score of 8.152892561983471\n"
     ]
    }
   ],
   "source": [
    "#Relation between method of finding a home and the average satisfaction rating that first-timprint('The average satisfaction rating that first-time homebuyers gave their home, based on the method of how they found their home.')\n",
    "filter_listPUB = ['1']\n",
    "PUB = household_181[(household_181.firsthome == 1) & household_181.searchpub.isin(filter_listPUB)]\n",
    "print('Homebuyers who found their home through news print gave their home a score of', PUB['ratinghs'].agg(np.mean))\n",
    "\n",
    "filter_listSIGN = ['1']\n",
    "SIGN = household_181[(household_181.firsthome == 1) & household_181.searchsign.isin(filter_listSIGN)]\n",
    "print('Homebuyers who found their home from a sign gave their home a score of', SIGN['ratinghs'].agg(np.mean))\n",
    "\n",
    "filter_listNET = ['1']\n",
    "NET = household_181[(household_181.firsthome == 1) & household_181.searchnet.isin(filter_listNET)]\n",
    "print('Homebuyers who used the internet gave their home a score of', NET['ratinghs'].agg(np.mean))\n",
    "\n",
    "filter_listLIST = ['1']\n",
    "LIST = household_181[(household_181.firsthome == 1) & household_181.searchlist.isin(filter_listLIST)]\n",
    "print('Homebuyers who found their home in a listing gave their home a score of', LIST['ratinghs'].agg(np.mean))\n",
    "\n",
    "filter_listRA = ['1']\n",
    "RA = household_181[(household_181.firsthome == 1) & household_181.searchrea.isin(filter_listRA)]\n",
    "print('Homebuyers who used a real estate agent gave their home a score of', RA['ratinghs'].agg(np.mean))\n",
    "\n",
    "filter_listFAM = ['1']\n",
    "FAM = household_181[(household_181.firsthome == 1) & household_181.searchfam.isin(filter_listFAM)]\n",
    "print('Homebuyers who used family/friend/word of mouth gave their home a score of', FAM['ratinghs'].agg(np.mean))\n",
    "\n",
    "filter_listOTH = ['1']\n",
    "OTH = household_181[(household_181.firsthome == 1) & household_181.searchoth.isin(filter_listOTH)]\n",
    "print('Homebuyers who used another method to find their home gave their home a score of', OTH['ratinghs'].agg(np.mean))\n"
   ]
  },
  {
   "cell_type": "code",
   "execution_count": 131,
   "metadata": {},
   "outputs": [
    {
     "name": "stdout",
     "output_type": "stream",
     "text": [
      "1821 first-time homebuyers moved because they wanted to live in a better home\n",
      "1722 first-time homebuyers moved because they wanted to live in their own household\n",
      "1364 first-time homebuyers moved because they wanted to live in a better neighborhood\n",
      "577 first-time homebuyers moved because of family\n",
      "566 first-time homebuyers moved because they wanted to reduce costs\n",
      "540 first-time homebuyers moved because of a change in household\n",
      "424 first-time homebuyers moved for some other reason\n",
      "369 first-time homebuyers moved because they wanted to reduce commute\n",
      "342 first-time homebuyers moved due to a job\n"
     ]
    }
   ],
   "source": [
    "#Test Hypothesis 2: The most popular reason why people moved was due to a long commute\n",
    "#Count the yeses, \"1\", for each of the nine reasons moved categories\n",
    "#Filter by first-time homebuyers\n",
    "#Conclusion: The most popular reason why people moved was to live in a better home\n",
    "\n",
    "BetterHome = household_181[(household_181.firsthome == 1) & (household_181.rmhome == 1)]\n",
    "print(len(BetterHome.index), \"first-time homebuyers moved because they wanted to live in a better home\")\n",
    "OwnHome = household_181[(household_181.firsthome == 1) & (household_181.rmownhh == 1)]\n",
    "print(len(OwnHome.index), \"first-time homebuyers moved because they wanted to live in their own household\")\n",
    "BetterNeighborhood = household_181[(household_181.firsthome == 1) & (household_181.rmhood == 1)]\n",
    "print(len(BetterNeighborhood.index), \"first-time homebuyers moved because they wanted to live in a better neighborhood\")\n",
    "FamilyReasons = household_181[(household_181.firsthome == 1) & (household_181.rmfamily == 1)]\n",
    "print(len(FamilyReasons.index), \"first-time homebuyers moved because of family\")\n",
    "ReduceCost = household_181[(household_181.firsthome == 1) & (household_181.rmcosts == 1)]\n",
    "print(len(ReduceCost.index), \"first-time homebuyers moved because they wanted to reduce costs\")\n",
    "Change = household_181[(household_181.firsthome == 1) & (household_181.rmchange == 1)]\n",
    "print(len(Change.index), \"first-time homebuyers moved because of a change in household\")\n",
    "OtherReason = household_181[(household_181.firsthome == 1) & (household_181.rmother == 1)]\n",
    "print(len(OtherReason.index), \"first-time homebuyers moved for some other reason\")\n",
    "Commute = household_181[(household_181.firsthome == 1) & (household_181.rmcommute == 1)]\n",
    "print(len(Commute.index), \"first-time homebuyers moved because they wanted to reduce commute\")\n",
    "Job = household_181[(household_181.firsthome == 1) & (household_181.rmjob == 1)]\n",
    "print(len(Job.index), \"first-time homebuyers moved due to a job\")"
   ]
  },
  {
   "cell_type": "code",
   "execution_count": 158,
   "metadata": {},
   "outputs": [
    {
     "name": "stdout",
     "output_type": "stream",
     "text": [
      "The average satisfaction rating that first-time homebuyers gave their home, based on the reason they moved.\n",
      "Homebuyers who moved to live in a better home gave their home a score of 8.666666666666666\n",
      "Homebuyers who moved to live in a better neighborhood gave their home a score of 8.649560117302054\n",
      "Homebuyers who moved for a job gave their home a score of 8.514619883040936\n",
      "Homebuyers who moved because of a change in household gave their home a score of 8.512962962962963\n",
      "Homebuyers who moved to live in their own household gave their home a score of 8.448315911730546\n",
      "Homebuyers who moved to reduce commute gave their home a score of 8.279132791327914\n",
      "Homebuyers who moved to reduce costs gave their home a score of 8.27208480565371\n",
      "Homebuyers who moved because of family gave their home a score of 8.251299826689774\n",
      "Homebuyers who moved for some other reason gave their home a score of 8.24056603773585\n"
     ]
    }
   ],
   "source": [
    "#Relation between reason for moving and the average satisfaction rating that first-time homebuyers gave their home.\n",
    "print('The average satisfaction rating that first-time homebuyers gave their home, based on the reason they moved.')\n",
    "\n",
    "filter_listHOME = ['1']\n",
    "HOME = household_181[(household_181.firsthome == 1) & household_181.rmhome.isin(filter_listHOME)]\n",
    "print('Homebuyers who moved to live in a better home gave their home a score of', PUB['ratinghs'].agg(np.mean))\n",
    "\n",
    "filter_listHOOD = ['1']\n",
    "HOOD = household_181[(household_181.firsthome == 1) & household_181.rmhood.isin(filter_listHOOD)]\n",
    "print('Homebuyers who moved to live in a better neighborhood gave their home a score of', HOOD['ratinghs'].agg(np.mean))\n",
    "\n",
    "filter_listJOB = ['1']\n",
    "JOB = household_181[(household_181.firsthome == 1) & household_181.rmjob.isin(filter_listJOB)]\n",
    "print('Homebuyers who moved for a job gave their home a score of', JOB['ratinghs'].agg(np.mean))\n",
    "\n",
    "filter_listCHAN = ['1']\n",
    "CHAN = household_181[(household_181.firsthome == 1) & household_181.rmchange.isin(filter_listCHAN)]\n",
    "print('Homebuyers who moved because of a change in household gave their home a score of', CHAN['ratinghs'].agg(np.mean))\n",
    "\n",
    "filter_listOWN = ['1']\n",
    "OWN = household_181[(household_181.firsthome == 1) & household_181.rmownhh.isin(filter_listOWN)]\n",
    "print('Homebuyers who moved to live in their own household gave their home a score of', OWN['ratinghs'].agg(np.mean))\n",
    "\n",
    "filter_listCOM = ['1']\n",
    "COM = household_181[(household_181.firsthome == 1) & household_181.rmcommute.isin(filter_listCOM)]\n",
    "print('Homebuyers who moved to reduce commute gave their home a score of', COM['ratinghs'].agg(np.mean))\n",
    "\n",
    "filter_listCOSTS = ['1']\n",
    "COSTS = household_181[(household_181.firsthome == 1) & household_181.rmcosts.isin(filter_listCOSTS)]\n",
    "print('Homebuyers who moved to reduce costs gave their home a score of', COSTS['ratinghs'].agg(np.mean))\n",
    "\n",
    "filter_listFAMILY = ['1']\n",
    "FAMILY = household_181[(household_181.firsthome == 1) & household_181.rmfamily.isin(filter_listFAMILY)]\n",
    "print('Homebuyers who moved because of family gave their home a score of', FAMILY['ratinghs'].agg(np.mean))\n",
    "\n",
    "filter_listOT = ['1']\n",
    "OT = household_181[(household_181.firsthome == 1) & household_181.rmother.isin(filter_listOT)]\n",
    "print('Homebuyers who moved for some other reason gave their home a score of', OT['ratinghs'].agg(np.mean))"
   ]
  },
  {
   "cell_type": "code",
   "execution_count": 146,
   "metadata": {},
   "outputs": [
    {
     "name": "stdout",
     "output_type": "stream",
     "text": [
      "23105 first-time homebuyers moved to a detached single family house\n",
      "2313 first-time homebuyers moved to an attached single family house\n",
      "1740 first-time homebuyers moved to a mobile home, trailer, RV, boat, van, or other structure\n",
      "1646 first-time homebuyers moved to a unit with 2 or more apartments\n"
     ]
    }
   ],
   "source": [
    "#Filtering by first-time homebuyers and mobile home/trailer, single family home, and RV/Van/Boat etc.\n",
    "filter_listX = ['2']\n",
    "X = household_181[(household_181.firsthome == 1) & household_181.bld.isin(filter_listX)]\n",
    "print(len(X.index), \"first-time homebuyers moved to a detached single family house\")\n",
    "\n",
    "filter_listXX = ['3']\n",
    "XX = household_181[(household_181.firsthome == 1) & household_181.bld.isin(filter_listXX)]\n",
    "print(len(XX.index), \"first-time homebuyers moved to an attached single family house\")\n",
    "\n",
    "#Filtering by first-time homebuyers and mobile home/trailer, RV/Van/Boat etc.\n",
    "filter_listZ = ['1', '10']\n",
    "Z = household_181[(household_181.firsthome == 1) & household_181.bld.isin(filter_listZ)]\n",
    "print(len(Z.index), \"first-time homebuyers moved to a mobile home, trailer, RV, boat, van, or other structure\")\n",
    "\n",
    "#Filtering by first-time homebuyers and apartment\n",
    "filter_listY = ['4', '5', '6', '7', '8', '9']\n",
    "Y = household_181[(household_181.firsthome == 1) & household_181.bld.isin(filter_listY)]\n",
    "print(len(Y.index), \"first-time homebuyers moved to a unit with 2 or more apartments\")"
   ]
  },
  {
   "cell_type": "code",
   "execution_count": 163,
   "metadata": {
    "scrolled": true
   },
   "outputs": [
    {
     "name": "stdout",
     "output_type": "stream",
     "text": [
      "The average satisfaction rating that first-time homebuyers gave their home, based on the style of home.\n",
      "Homebuyers who moved to a detached single-family home gave their home a score of 8.166587318762172\n",
      "Homebuyers who moved to a unit with 2 or more apartments gave their home a score of 8.040704738760631\n",
      "Homebuyers who moved to an attached single-family home gave their home a score of 8.010808473843493\n",
      "Homebuyers who moved to a mobile home, trailer, RV, boat, van, or other structure gave their home a score of 7.641379310344828\n"
     ]
    }
   ],
   "source": [
    "# Average household satisfaction rating for first-time homeowners by each style of home\n",
    "print('The average satisfaction rating that first-time homebuyers gave their home, based on the style of home.')\n",
    "\n",
    "X = household_181[(household_181.firsthome == 1) & household_181.bld.isin(filter_listX)]\n",
    "print('Homebuyers who moved to a detached single-family home gave their home a score of', X['ratinghs'].agg(np.mean))\n",
    "\n",
    "Y = household_181[(household_181.firsthome == 1) & household_181.bld.isin(filter_listY)]\n",
    "print('Homebuyers who moved to a unit with 2 or more apartments gave their home a score of', Y['ratinghs'].agg(np.mean))\n",
    "\n",
    "XX = household_181[(household_181.firsthome == 1) & household_181.bld.isin(filter_listXX)]\n",
    "print('Homebuyers who moved to an attached single-family home gave their home a score of', XX['ratinghs'].agg(np.mean))\n",
    "\n",
    "Z = household_181[(household_181.firsthome == 1) & household_181.bld.isin(filter_listZ)]\n",
    "print('Homebuyers who moved to a mobile home, trailer, RV, boat, van, or other structure gave their home a score of', Z['ratinghs'].agg(np.mean))"
   ]
  },
  {
   "cell_type": "code",
   "execution_count": 179,
   "metadata": {},
   "outputs": [
    {
     "data": {
      "text/plain": [
       "ratingnh\n",
       "-9.0     171989.286116\n",
       "-6.0     194919.044553\n",
       " 1.0      43183.585308\n",
       " 2.0      46695.512116\n",
       " 3.0      47214.437331\n",
       " 4.0      60356.460214\n",
       " 5.0      73617.358255\n",
       " 6.0     101602.368514\n",
       " 7.0     129878.374862\n",
       " 8.0     178162.611092\n",
       " 9.0     229986.656049\n",
       " 10.0    239782.102724\n",
       "Name: marketval, dtype: float64"
      ]
     },
     "execution_count": 179,
     "metadata": {},
     "output_type": "execute_result"
    }
   ],
   "source": [
    "NeighborhoodRating = household_181.groupby(['ratingnh'])\n",
    "NeighborhoodRating['marketval'].agg(np.mean)"
   ]
  },
  {
   "cell_type": "code",
   "execution_count": 178,
   "metadata": {},
   "outputs": [
    {
     "data": {
      "text/plain": [
       "nhqscrime\n",
       "-9.0    157820.600000\n",
       "-6.0    212353.232778\n",
       " 1.0     78539.090254\n",
       " 2.0    192672.914109\n",
       "Name: marketval, dtype: float64"
      ]
     },
     "execution_count": 178,
     "metadata": {},
     "output_type": "execute_result"
    }
   ],
   "source": [
    "Serious = household_181.groupby(['nhqscrime'])\n",
    "Serious['marketval'].agg(np.mean)"
   ]
  },
  {
   "cell_type": "code",
   "execution_count": 177,
   "metadata": {},
   "outputs": [
    {
     "data": {
      "text/plain": [
       "nhqpcrime\n",
       "-9.0    155213.467138\n",
       "-6.0    212353.232778\n",
       " 1.0    104616.133330\n",
       " 2.0    203376.795365\n",
       "Name: marketval, dtype: float64"
      ]
     },
     "execution_count": 177,
     "metadata": {},
     "output_type": "execute_result"
    }
   ],
   "source": [
    "Petty = household_181.groupby(['nhqpcrime'])\n",
    "Petty['marketval'].agg(np.mean)"
   ]
  },
  {
   "cell_type": "code",
   "execution_count": 174,
   "metadata": {},
   "outputs": [
    {
     "data": {
      "text/plain": [
       "nhqschool\n",
       "-9.0    134692.822809\n",
       "-6.0    212353.232778\n",
       " 1.0    195800.331405\n",
       " 2.0    133709.915207\n",
       "Name: marketval, dtype: float64"
      ]
     },
     "execution_count": 174,
     "metadata": {},
     "output_type": "execute_result"
    }
   ],
   "source": [
    "School = household_181.groupby(['nhqschool'])\n",
    "School['marketval'].agg(np.mean)"
   ]
  },
  {
   "cell_type": "code",
   "execution_count": 175,
   "metadata": {},
   "outputs": [
    {
     "data": {
      "text/plain": [
       "nhqpubtrn\n",
       "-9.0    177362.131925\n",
       "-6.0    212353.232778\n",
       " 1.0    169065.494728\n",
       " 2.0    198402.229625\n",
       "Name: marketval, dtype: float64"
      ]
     },
     "execution_count": 175,
     "metadata": {},
     "output_type": "execute_result"
    }
   ],
   "source": [
    "Transport = household_181.groupby(['nhqpubtrn'])\n",
    "Transport['marketval'].agg(np.mean)"
   ]
  },
  {
   "cell_type": "code",
   "execution_count": 176,
   "metadata": {},
   "outputs": [
    {
     "data": {
      "text/plain": [
       "nhqrisk\n",
       "-9.0    172116.373118\n",
       "-6.0    212353.232778\n",
       " 1.0    186440.537453\n",
       " 2.0    183129.014940\n",
       "Name: marketval, dtype: float64"
      ]
     },
     "execution_count": 176,
     "metadata": {},
     "output_type": "execute_result"
    }
   ],
   "source": [
    "Risk = household_181.groupby(['nhqrisk'])\n",
    "Risk['marketval'].agg(np.mean)"
   ]
  },
  {
   "cell_type": "code",
   "execution_count": 180,
   "metadata": {},
   "outputs": [
    {
     "data": {
      "text/plain": [
       "neartrash\n",
       "-9.0    180452.818987\n",
       "-6.0    212353.232778\n",
       " 1.0     75149.222746\n",
       " 2.0     82089.723002\n",
       " 3.0    192708.124718\n",
       "Name: marketval, dtype: float64"
      ]
     },
     "execution_count": 180,
     "metadata": {},
     "output_type": "execute_result"
    }
   ],
   "source": [
    "Trash = household_181.groupby(['neartrash'])\n",
    "Trash['marketval'].agg(np.mean)"
   ]
  },
  {
   "cell_type": "code",
   "execution_count": 183,
   "metadata": {},
   "outputs": [
    {
     "data": {
      "text/plain": [
       "nearbarcl\n",
       "-9.0    160017.342215\n",
       "-6.0    212353.232778\n",
       " 1.0    148085.476815\n",
       " 2.0    113049.741636\n",
       " 3.0    189999.629098\n",
       "Name: marketval, dtype: float64"
      ]
     },
     "execution_count": 183,
     "metadata": {},
     "output_type": "execute_result"
    }
   ],
   "source": [
    "Bars = household_181.groupby(['nearbarcl'])\n",
    "Bars['marketval'].agg(np.mean)"
   ]
  },
  {
   "cell_type": "code",
   "execution_count": 184,
   "metadata": {},
   "outputs": [
    {
     "data": {
      "text/plain": [
       "nearaband\n",
       "-9.0    167642.747332\n",
       "-6.0    212353.232778\n",
       " 1.0     97608.982621\n",
       " 2.0     59612.563290\n",
       " 3.0    190687.279410\n",
       " 4.0    208721.542254\n",
       "Name: marketval, dtype: float64"
      ]
     },
     "execution_count": 184,
     "metadata": {},
     "output_type": "execute_result"
    }
   ],
   "source": [
    "Abandoned = household_181.groupby(['nearaband'])\n",
    "Abandoned['marketval'].agg(np.mean)"
   ]
  }
 ],
 "metadata": {
  "kernelspec": {
   "display_name": "Python 3",
   "language": "python",
   "name": "python3"
  },
  "language_info": {
   "codemirror_mode": {
    "name": "ipython",
    "version": 3
   },
   "file_extension": ".py",
   "mimetype": "text/x-python",
   "name": "python",
   "nbconvert_exporter": "python",
   "pygments_lexer": "ipython3",
   "version": "3.6.5"
  }
 },
 "nbformat": 4,
 "nbformat_minor": 2
}
