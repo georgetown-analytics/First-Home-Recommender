{
 "cells": [
  {
   "cell_type": "code",
   "execution_count": null,
   "metadata": {},
   "outputs": [],
   "source": [
    "import re\n",
    "from ipywidgets import interact, interactive, Layout, interactive_output,VBox\n",
    "import ipywidgets as widgets\n",
    "from IPython.display import display, HTML\n",
    "from ipywidgets import HBox, Label, FloatSlider,Dropdown,IntSlider,RadioButtons, Box, Layout\n",
    "import numpy as np\n",
    "import pandas as pd\n",
    "from scipy import stats\n",
    "import matplotlib.pyplot as plt\n",
    "import matplotlib\n",
    "\n",
    "from sklearn.model_selection import train_test_split\n",
    "from sklearn.ensemble import GradientBoostingClassifier\n",
    "import pickle\n",
    "\n",
    "import psycopg2\n",
    "import os\n",
    "import seaborn as sns\n",
    "sns.set(style=\"ticks\", color_codes=True)\n",
    "import warnings\n",
    "import yellowbrick as yb\n",
    "\n",
    "from sklearn.preprocessing import OneHotEncoder, LabelEncoder\n",
    "from sklearn.metrics import f1_score\n",
    "from sklearn.pipeline import Pipeline\n",
    "from sklearn.svm import LinearSVC, NuSVC, SVC\n",
    "from sklearn.neighbors import KNeighborsClassifier\n",
    "from sklearn.preprocessing import OneHotEncoder, LabelEncoder\n",
    "from sklearn.linear_model import LogisticRegressionCV, LogisticRegression, SGDClassifier\n",
    "from sklearn.ensemble import BaggingClassifier, ExtraTreesClassifier, RandomForestClassifier\n",
    "\n",
    "from yellowbrick.classifier import ClassificationReport\n",
    "\n",
    "warnings.simplefilter(action='ignore', category=FutureWarning)"
   ]
  },
  {
   "cell_type": "code",
   "execution_count": null,
   "metadata": {},
   "outputs": [],
   "source": [
    "conn = psycopg2.connect( \n",
    "                        host = 'project.cgxhdwn5zb5t.us-east-1.rds.amazonaws.com',\n",
    "                        port = 5432, \n",
    "                        user = 'postgres',\n",
    "                        password = 'Admin123',\n",
    "                        database = 'postgres')\n",
    "cursor = conn.cursor()"
   ]
  },
  {
   "cell_type": "code",
   "execution_count": null,
   "metadata": {},
   "outputs": [],
   "source": [
    "DEC2FLOAT = psycopg2.extensions.new_type(\n",
    "    psycopg2.extensions.DECIMAL.values,\n",
    "    'DEC2FLOAT',\n",
    "    lambda value, curs: float(value) if value is not None else None)\n",
    "psycopg2.extensions.register_type(DEC2FLOAT)"
   ]
  },
  {
   "cell_type": "code",
   "execution_count": null,
   "metadata": {},
   "outputs": [],
   "source": [
    "cursor.execute('Select * from \"AHS_Household_Class\"')\n",
    "rows = cursor.fetchall()\n",
    "col_names = []\n",
    "for elt in cursor.description:\n",
    "    col_names.append(elt[0])\n",
    "\n",
    "df = pd.DataFrame(data=rows, columns=col_names )\n",
    "\n",
    "#Not sure which of the below lines are necessary, if others are needed.\n",
    "\n",
    "# Create the train and test data - define the test data\n",
    "from sklearn.model_selection import train_test_split\n",
    "X = df[['PERPOVLVL', 'BEDROOMS','TOTROOMS','BATHROOMS', 'HHMOVE', 'UTILAMT','HHNATVTY','HINCP','FINCP']]\n",
    "y = df[['RATINGHS_BIN']]\n",
    "X_train, X_test, y_train, y_test = train_test_split(X, y, test_size=0.2)\n",
    "classes = ['Satisfied', 'unsatisfied']\n",
    "\n",
    "def score_model(X, y, estimator, **kwargs):\n",
    "    y = LabelEncoder().fit_transform(y)\n",
    "    model = Pipeline([('one_hot_encoder', OneHotEncoder()), ('estimator', estimator)])\n",
    "    model.fit(X_train, y_train.values.ravel(), **kwargs)   \n",
    "    expected  = y_train\n",
    "    predicted = model.predict(X_train)    \n",
    "pd.Series(y_train).value_counts().plot.bar()\n",
    "\n",
    "from imblearn.over_sampling import SMOTE\n",
    "sm = SMOTE(random_state = 33)\n",
    "X_sm, y_sm = sm.fit_sample(X_sm, y_sm.ravel())\n",
    "pd.Series(y_sm).value_counts().plot.bar()\n",
    "\n",
    "loaded_model = #load/open the file that contains the model we are using "
   ]
  },
  {
   "cell_type": "code",
   "execution_count": null,
   "metadata": {},
   "outputs": [],
   "source": [
    "#Indicate which attributes we are using\n",
    "IntervalVariables = ['']\n",
    "CategoricalVariables = ['']\n",
    "\n",
    "#Indicate user input variables"
   ]
  },
  {
   "cell_type": "code",
   "execution_count": null,
   "metadata": {},
   "outputs": [],
   "source": [
    "def load_model(TOTROOMS, DINING, LAUNDY, HHAGE)\n",
    "    \n",
    "    \n",
    "    #show the histgram\n",
    "    plt.figure(figsize=(15,5))\n",
    "    plt.yticks([])\n",
    "    plt.ylabel(\"Frequency of Predicted Instances\")\n",
    "    plt.hist(df_test[df_test['satisfaction']==0][\"probability of satisfaction\"],bins, alpha=.9, label='Unsatisfied',color=\"#259433\")  \n",
    "    plt.hist(df_test[df_test['satisfaction']==1][\"probability of satisfaction\"],bins,alpha=0.7, label='Satisfied', color=\"#ff4940\")\n",
    "    plt.axvline(user_proba,0,3000, linewidth=1)\n",
    "    plt.xticks([user_proba,user_proba])\n",
    "    plt.legend()\n",
    "    plt.show()\n",
    "    \n",
    "    return "
   ]
  },
  {
   "cell_type": "code",
   "execution_count": null,
   "metadata": {},
   "outputs": [],
   "source": [
    "#These lines format the widgets\n",
    "\n",
    "style={'description_width' :\"initial\"}\n",
    "TOTROOMS=widgets.IntSlider(value=0, min=0,max=100,description='Number of Rooms', layout=Layout(flex='1 1 auto', width='auto'),style=style, continuous_update=False)\n",
    "DINING=widgets.RadioButtons(value=0,options=[(\"Yes\",1),('No',2)],layout=Layout(flex='1 1 auto', width='auto'),description=\"Dining Room\", style=style, disabled=False)\n",
    "LAUNDY=widgets.RadioButtons(value=0,options=[(\"Yes\",1),('No',2)],layout=Layout(flex='1 1 auto', width='auto'),description=\"Laundry Room\", style=style, disabled=False)\n",
    "HHAGE=widgets.BoundedFloatText(value=0, min=18, max=130, step=1, description='Age', style=stretch_desc)"
   ]
  },
  {
   "cell_type": "code",
   "execution_count": null,
   "metadata": {},
   "outputs": [],
   "source": [
    "#These lines display the widgets\n",
    "\n",
    "left_box=VBox([TOTROOMS])\n",
    "mid_box=VBox([DINING, LAUNDY])\n",
    "right_box=VBox([HHAGE])\n",
    "ui=widgets.HBox([left_box,mid_box, right_box])\n",
    "output=widgets.interactive_output(load_model,{'work_limited':work_limited})\n",
    "output.layout.height=\"400px\"\n",
    "output.layout.width='800px'\n",
    "box=widgets.VBox([ui,output])\n",
    "display(box)"
   ]
  }
 ],
 "metadata": {
  "kernelspec": {
   "display_name": "Python 3",
   "language": "python",
   "name": "python3"
  },
  "language_info": {
   "codemirror_mode": {
    "name": "ipython",
    "version": 3
   },
   "file_extension": ".py",
   "mimetype": "text/x-python",
   "name": "python",
   "nbconvert_exporter": "python",
   "pygments_lexer": "ipython3",
   "version": "3.6.5"
  }
 },
 "nbformat": 4,
 "nbformat_minor": 2
}
